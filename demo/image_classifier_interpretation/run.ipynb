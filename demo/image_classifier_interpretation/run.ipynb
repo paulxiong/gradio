{
 "cells": [
  {
   "cell_type": "code",
   "execution_count": 1,
   "metadata": {},
   "outputs": [],
   "source": [
    "import requests\n",
    "import tensorflow as tf\n",
    "import os\n",
    "import sys\n",
    "import numpy as np\n",
    "from PIL import Image\n",
    "import json\n",
    "\n",
    "sys.path.append(os.getcwd())\n",
    "root_dir = os.getcwd()\n",
    "sys.path.insert(1,root_dir) \n",
    "\n",
    "import ml_collections\n",
    "from models import ar_model as model_lib\n",
    "from data import data_utils\n",
    "from tasks.object_detection import TaskObjectDetection\n",
    "from tasks.visualization import vis_utils\n",
    "import gradio as gr\n",
    "\n",
    "#@title Load model.\n",
    "model_dir = '/mnt/gradio/demo/image_classifier_interpretation/model_dw/resnet_640x640/' #@param\n",
    "with tf.io.gfile.GFile(os.path.join(model_dir, 'config.json'), 'r') as f:\n",
    "  config = ml_collections.ConfigDict(json.loads(f.read()))\n"
   ]
  },
  {
   "cell_type": "code",
   "execution_count": null,
   "metadata": {},
   "outputs": [],
   "source": [
    "# Set batch size to 1.\n",
    "config.eval.batch_size = 1\n",
    "\n",
    "# Remove the annotation filepaths.\n",
    "config.dataset.coco_annotations_dir = None\n",
    "\n",
    "# Update config fields.\n",
    "config.task.vocab_id = 10  # object_detection task vocab id.\n",
    "config.training = False\n",
    "config.dataset.val_filename='instances_val2017.json'\n",
    "\n",
    "assert config.task.name == \"object_detection\"\n",
    "task = TaskObjectDetection(config)\n",
    "\n",
    "# Restore checkpoint.\n",
    "model = model_lib.Model(config)\n",
    "checkpoint = tf.train.Checkpoint(\n",
    "    model=model, global_step=tf.Variable(0, dtype=tf.int64))\n",
    "ckpt = tf.train.latest_checkpoint(model_dir)\n",
    "checkpoint.restore(ckpt).expect_partial()\n",
    "global_step = checkpoint.global_step\n",
    "\n",
    "#@title Category names for COCO.\n",
    "categories_str = '{\"categories\": [{\"supercategory\": \"person\",\"id\": 1,\"name\": \"person\"},{\"supercategory\": \"vehicle\",\"id\": 2,\"name\": \"bicycle\"},{\"supercategory\": \"vehicle\",\"id\": 3,\"name\": \"car\"},{\"supercategory\": \"vehicle\",\"id\": 4,\"name\": \"motorcycle\"},{\"supercategory\": \"vehicle\",\"id\": 5,\"name\": \"airplane\"},{\"supercategory\": \"vehicle\",\"id\": 6,\"name\": \"bus\"},{\"supercategory\": \"vehicle\",\"id\": 7,\"name\": \"train\"},{\"supercategory\": \"vehicle\",\"id\": 8,\"name\": \"truck\"},{\"supercategory\": \"vehicle\",\"id\": 9,\"name\": \"boat\"},{\"supercategory\": \"outdoor\",\"id\": 10,\"name\": \"traffic light\"},{\"supercategory\": \"outdoor\",\"id\": 11,\"name\": \"fire hydrant\"},{\"supercategory\": \"outdoor\",\"id\": 13,\"name\": \"stop sign\"},{\"supercategory\": \"outdoor\",\"id\": 14,\"name\": \"parking meter\"},{\"supercategory\": \"outdoor\",\"id\": 15,\"name\": \"bench\"},{\"supercategory\": \"animal\",\"id\": 16,\"name\": \"bird\"},{\"supercategory\": \"animal\",\"id\": 17,\"name\": \"cat\"},{\"supercategory\": \"animal\",\"id\": 18,\"name\": \"dog\"},{\"supercategory\": \"animal\",\"id\": 19,\"name\": \"horse\"},{\"supercategory\": \"animal\",\"id\": 20,\"name\": \"sheep\"},{\"supercategory\": \"animal\",\"id\": 21,\"name\": \"cow\"},{\"supercategory\": \"animal\",\"id\": 22,\"name\": \"elephant\"},{\"supercategory\": \"animal\",\"id\": 23,\"name\": \"bear\"},{\"supercategory\": \"animal\",\"id\": 24,\"name\": \"zebra\"},{\"supercategory\": \"animal\",\"id\": 25,\"name\": \"giraffe\"},{\"supercategory\": \"accessory\",\"id\": 27,\"name\": \"backpack\"},{\"supercategory\": \"accessory\",\"id\": 28,\"name\": \"umbrella\"},{\"supercategory\": \"accessory\",\"id\": 31,\"name\": \"handbag\"},{\"supercategory\": \"accessory\",\"id\": 32,\"name\": \"tie\"},{\"supercategory\": \"accessory\",\"id\": 33,\"name\": \"suitcase\"},{\"supercategory\": \"sports\",\"id\": 34,\"name\": \"frisbee\"},{\"supercategory\": \"sports\",\"id\": 35,\"name\": \"skis\"},{\"supercategory\": \"sports\",\"id\": 36,\"name\": \"snowboard\"},{\"supercategory\": \"sports\",\"id\": 37,\"name\": \"sports ball\"},{\"supercategory\": \"sports\",\"id\": 38,\"name\": \"kite\"},{\"supercategory\": \"sports\",\"id\": 39,\"name\": \"baseball bat\"},{\"supercategory\": \"sports\",\"id\": 40,\"name\": \"baseball glove\"},{\"supercategory\": \"sports\",\"id\": 41,\"name\": \"skateboard\"},{\"supercategory\": \"sports\",\"id\": 42,\"name\": \"surfboard\"},{\"supercategory\": \"sports\",\"id\": 43,\"name\": \"tennis racket\"},{\"supercategory\": \"kitchen\",\"id\": 44,\"name\": \"bottle\"},{\"supercategory\": \"kitchen\",\"id\": 46,\"name\": \"wine glass\"},{\"supercategory\": \"kitchen\",\"id\": 47,\"name\": \"cup\"},{\"supercategory\": \"kitchen\",\"id\": 48,\"name\": \"fork\"},{\"supercategory\": \"kitchen\",\"id\": 49,\"name\": \"knife\"},{\"supercategory\": \"kitchen\",\"id\": 50,\"name\": \"spoon\"},{\"supercategory\": \"kitchen\",\"id\": 51,\"name\": \"bowl\"},{\"supercategory\": \"food\",\"id\": 52,\"name\": \"banana\"},{\"supercategory\": \"food\",\"id\": 53,\"name\": \"apple\"},{\"supercategory\": \"food\",\"id\": 54,\"name\": \"sandwich\"},{\"supercategory\": \"food\",\"id\": 55,\"name\": \"orange\"},{\"supercategory\": \"food\",\"id\": 56,\"name\": \"broccoli\"},{\"supercategory\": \"food\",\"id\": 57,\"name\": \"carrot\"},{\"supercategory\": \"food\",\"id\": 58,\"name\": \"hot dog\"},{\"supercategory\": \"food\",\"id\": 59,\"name\": \"pizza\"},{\"supercategory\": \"food\",\"id\": 60,\"name\": \"donut\"},{\"supercategory\": \"food\",\"id\": 61,\"name\": \"cake\"},{\"supercategory\": \"furniture\",\"id\": 62,\"name\": \"chair\"},{\"supercategory\": \"furniture\",\"id\": 63,\"name\": \"couch\"},{\"supercategory\": \"furniture\",\"id\": 64,\"name\": \"potted plant\"},{\"supercategory\": \"furniture\",\"id\": 65,\"name\": \"bed\"},{\"supercategory\": \"furniture\",\"id\": 67,\"name\": \"dining table\"},{\"supercategory\": \"furniture\",\"id\": 70,\"name\": \"toilet\"},{\"supercategory\": \"electronic\",\"id\": 72,\"name\": \"tv\"},{\"supercategory\": \"electronic\",\"id\": 73,\"name\": \"laptop\"},{\"supercategory\": \"electronic\",\"id\": 74,\"name\": \"mouse\"},{\"supercategory\": \"electronic\",\"id\": 75,\"name\": \"remote\"},{\"supercategory\": \"electronic\",\"id\": 76,\"name\": \"keyboard\"},{\"supercategory\": \"electronic\",\"id\": 77,\"name\": \"cell phone\"},{\"supercategory\": \"appliance\",\"id\": 78,\"name\": \"microwave\"},{\"supercategory\": \"appliance\",\"id\": 79,\"name\": \"oven\"},{\"supercategory\": \"appliance\",\"id\": 80,\"name\": \"toaster\"},{\"supercategory\": \"appliance\",\"id\": 81,\"name\": \"sink\"},{\"supercategory\": \"appliance\",\"id\": 82,\"name\": \"refrigerator\"},{\"supercategory\": \"indoor\",\"id\": 84,\"name\": \"book\"},{\"supercategory\": \"indoor\",\"id\": 85,\"name\": \"clock\"},{\"supercategory\": \"indoor\",\"id\": 86,\"name\": \"vase\"},{\"supercategory\": \"indoor\",\"id\": 87,\"name\": \"scissors\"},{\"supercategory\": \"indoor\",\"id\": 88,\"name\": \"teddy bear\"},{\"supercategory\": \"indoor\",\"id\": 89,\"name\": \"hair drier\"},{\"supercategory\": \"indoor\",\"id\": 90,\"name\": \"toothbrush\"}]}'\n",
    "categories_dict = json.loads(categories_str)\n",
    "categories_dict = {c['id']: c for c in categories_dict['categories']}"
   ]
  },
  {
   "cell_type": "code",
   "execution_count": null,
   "metadata": {},
   "outputs": [],
   "source": [
    "url = 'http://images.cocodataset.org/val2017/000000039769.jpg' #@param\n",
    "\n",
    "im = Image.open(requests.get(url, stream=True).raw)\n",
    "im\n"
   ]
  },
  {
   "cell_type": "code",
   "execution_count": null,
   "metadata": {},
   "outputs": [],
   "source": [
    "num_instances_to_generate = 10 #@param\n",
    "min_score_thresh = 0.5 #@param\n",
    "\n",
    "# Build inference graph.\n",
    "task.config.task.max_instances_per_image_test = num_instances_to_generate\n",
    "@tf.function\n",
    "def infer(model, preprocessed_outputs):\n",
    "  return task.infer(model, preprocessed_outputs)\n",
    "\n",
    "# Construct features and dummy labels.\n",
    "im = np.array(im)\n",
    "features = {\n",
    "    'image': tf.image.convert_image_dtype(im, tf.float32),\n",
    "    'image/id': 0, # dummy image id.\n",
    "    'orig_image_size': tf.shape(im)[0:2],\n",
    "}\n",
    "labels = {\n",
    "    'label': tf.zeros([1], tf.int32),\n",
    "    'bbox': tf.zeros([1, 4]),\n",
    "    'area': tf.zeros([1]),\n",
    "    'is_crowd': tf.zeros([1]),\n",
    "}\n",
    "features, labels = data_utils.preprocess_eval(\n",
    "    features,\n",
    "    labels,\n",
    "    max_image_size=config.model.image_size,\n",
    "    max_instances_per_image=1)\n",
    "\n",
    "# Batch features and labels.\n",
    "features = {\n",
    "    k: tf.expand_dims(v, 0) for k, v in features.items()\n",
    "}\n",
    "labels = {\n",
    "    k: tf.expand_dims(v, 0) for k, v in labels.items()\n",
    "}\n",
    "# Inference.\n",
    "preprocessed_outputs = (features['image'], None, (features, labels))\n",
    "infer_outputs = infer(model, preprocessed_outputs)\n",
    "_, pred_seq, _ = infer_outputs\n",
    "results = task.postprocess_tpu(*infer_outputs)\n"
   ]
  },
  {
   "cell_type": "code",
   "execution_count": 2,
   "metadata": {},
   "outputs": [
    {
     "output_type": "stream",
     "name": "stderr",
     "text": [
      "2022-05-14 17:54:19.637396: I tensorflow/stream_executor/cuda/cuda_gpu_executor.cc:938] could not open file to read NUMA node: /sys/bus/pci/devices/0000:00:00.0/numa_node\n",
      "Your kernel may have been built without NUMA support.\n",
      "2022-05-14 17:54:21.024296: I tensorflow/stream_executor/cuda/cuda_gpu_executor.cc:938] could not open file to read NUMA node: /sys/bus/pci/devices/0000:00:00.0/numa_node\n",
      "Your kernel may have been built without NUMA support.\n",
      "2022-05-14 17:54:21.024806: I tensorflow/stream_executor/cuda/cuda_gpu_executor.cc:938] could not open file to read NUMA node: /sys/bus/pci/devices/0000:00:00.0/numa_node\n",
      "Your kernel may have been built without NUMA support.\n",
      "2022-05-14 17:54:21.063497: I tensorflow/stream_executor/cuda/cuda_gpu_executor.cc:938] could not open file to read NUMA node: /sys/bus/pci/devices/0000:00:00.0/numa_node\n",
      "Your kernel may have been built without NUMA support.\n",
      "2022-05-14 17:54:21.064543: I tensorflow/stream_executor/cuda/cuda_gpu_executor.cc:938] could not open file to read NUMA node: /sys/bus/pci/devices/0000:00:00.0/numa_node\n",
      "Your kernel may have been built without NUMA support.\n",
      "2022-05-14 17:54:21.065027: I tensorflow/stream_executor/cuda/cuda_gpu_executor.cc:938] could not open file to read NUMA node: /sys/bus/pci/devices/0000:00:00.0/numa_node\n",
      "Your kernel may have been built without NUMA support.\n",
      "2022-05-14 17:54:29.596980: I tensorflow/stream_executor/cuda/cuda_gpu_executor.cc:938] could not open file to read NUMA node: /sys/bus/pci/devices/0000:00:00.0/numa_node\n",
      "Your kernel may have been built without NUMA support.\n",
      "2022-05-14 17:54:29.597750: I tensorflow/stream_executor/cuda/cuda_gpu_executor.cc:938] could not open file to read NUMA node: /sys/bus/pci/devices/0000:00:00.0/numa_node\n",
      "Your kernel may have been built without NUMA support.\n",
      "2022-05-14 17:54:29.597928: I tensorflow/core/common_runtime/gpu/gpu_device.cc:1609] Could not identify NUMA node of platform GPU id 0, defaulting to 0.  Your kernel may not have been built with NUMA support.\n",
      "2022-05-14 17:54:29.598458: I tensorflow/stream_executor/cuda/cuda_gpu_executor.cc:938] could not open file to read NUMA node: /sys/bus/pci/devices/0000:00:00.0/numa_node\n",
      "Your kernel may have been built without NUMA support.\n",
      "2022-05-14 17:54:29.614231: I tensorflow/core/common_runtime/gpu/gpu_device.cc:1525] Created device /job:localhost/replica:0/task:0/device:GPU:0 with 21791 MB memory:  -> device: 0, name: Xavier, pci bus id: 0000:00:00.0, compute capability: 7.2\n",
      "2022-05-14 17:55:52.295335: I tensorflow/stream_executor/cuda/cuda_dnn.cc:379] Loaded cuDNN version 8302\n",
      "Running on local URL:  http://127.0.0.1:7860/\n",
      "\n",
      "To create a public link, set `share=True` in `launch()`.\n"
     ]
    },
    {
     "output_type": "display_data",
     "data": {
      "text/plain": "<IPython.lib.display.IFrame at 0xffff206989d0>",
      "text/html": "\n        <iframe\n            width=\"900\"\n            height=\"500\"\n            src=\"http://127.0.0.1:7860/\"\n            frameborder=\"0\"\n            allowfullscreen\n            \n        ></iframe>\n        "
     },
     "metadata": {}
    },
    {
     "output_type": "execute_result",
     "data": {
      "text/plain": [
       "(<fastapi.applications.FastAPI at 0xffff390d9250>,\n",
       " 'http://127.0.0.1:7860/',\n",
       " None)"
      ]
     },
     "metadata": {},
     "execution_count": 2
    }
   ],
   "source": [
    "\n",
    "\n",
    "inception_net = tf.keras.applications.MobileNetV2()  # load the model\n",
    "\n",
    "# Download human-readable labels for ImageNet.\n",
    "response = requests.get(\"https://git.io/JJkYN\")\n",
    "labels = response.text.split(\"\\n\")\n",
    "\n",
    "\n",
    "def classify_image(inp):\n",
    "    inp = inp.reshape((-1, 224, 224, 3))\n",
    "    inp = tf.keras.applications.mobilenet_v2.preprocess_input(inp)\n",
    "    prediction = inception_net.predict(inp).flatten()\n",
    "    # return {labels[i]: float(prediction[i]) for i in range(1000)}\n",
    "    return 'punks.png'\n",
    "\n",
    "\n",
    "image = gr.inputs.Image(shape=(224, 224))\n",
    "label = gr.outputs.Label(num_top_classes=3)\n",
    "\n",
    "gr.Interface(\n",
    "    # fn=classify_image, inputs=image, outputs=label, interpretation=\"default\"\n",
    "    fn=classify_image, \n",
    "    inputs=image, \n",
    "    outputs=\"image\", \n",
    "    interpretation=\"default\"\n",
    ").launch()\n"
   ]
  },
  {
   "cell_type": "code",
   "execution_count": null,
   "metadata": {},
   "outputs": [],
   "source": []
  }
 ],
 "metadata": {
  "anaconda-cloud": {},
  "kernelspec": {
   "name": "python3",
   "display_name": "Python 3.8.10 64-bit",
   "metadata": {
    "interpreter": {
     "hash": "31f2aee4e71d21fbe5cf8b01ff0e069b9275f58929596ceb00d14d90e3e16cd6"
    }
   }
  },
  "language_info": {
   "codemirror_mode": {
    "name": "ipython",
    "version": 3
   },
   "file_extension": ".py",
   "mimetype": "text/x-python",
   "name": "python",
   "nbconvert_exporter": "python",
   "pygments_lexer": "ipython3",
   "version": "3.8.10-final"
  }
 },
 "nbformat": 4,
 "nbformat_minor": 4
}